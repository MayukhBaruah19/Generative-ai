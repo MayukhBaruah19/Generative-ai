{
 "cells": [
  {
   "cell_type": "markdown",
   "id": "dc49b832",
   "metadata": {},
   "source": [
    "### Build a Simple LLM Application with LCEL\n",
    "In this quickstart we'll show you how to build a simple LLM application with LangChain. This application will translate text from English into another language. This is a relatively simple LLM application - it's just a single LLM call plus some prompting. Still, this is a great way to get started with LangChain - a lot of features can be built with just some prompting and an LLM call!\n",
    "\n",
    "After seeing this video, you'll have a high level overview of:\n",
    "\n",
    "- Using language models\n",
    "\n",
    "- Using PromptTemplates and OutputParsers\n",
    "\n",
    "- Using LangChain Expression Language (LCEL) to chain components together\n",
    "\n",
    "- Debugging and tracing your application using LangSmith\n",
    "\n",
    "- Deploying your application with LangServe"
   ]
  },
  {
   "cell_type": "code",
   "execution_count": 1,
   "id": "9dd1c193",
   "metadata": {},
   "outputs": [],
   "source": [
    "#opensource API key using groq\n",
    "import os\n",
    "from dotenv import load_dotenv\n",
    "load_dotenv()\n",
    "\n",
    "groq_api_key = os.getenv(\"GROQ_API_KEY\")\n"
   ]
  },
  {
   "cell_type": "code",
   "execution_count": 2,
   "id": "2be281a8",
   "metadata": {},
   "outputs": [],
   "source": [
    "from langchain_groq import ChatGroq\n",
    "model=ChatGroq(model=\"gemma2-9b-it\", groq_api_key=groq_api_key)\n"
   ]
  },
  {
   "cell_type": "code",
   "execution_count": null,
   "id": "e6a07ec3",
   "metadata": {},
   "outputs": [],
   "source": [
    "from langchain_core.messages import HumanMessage,SystemMessage,AIMessage\n",
    "message=[\n",
    "    SystemMessage(content=\"Translate the following English text to japanese\"),\n",
    "    HumanMessage(content=\"HI \")\n",
    "]\n",
    "result=model.invoke(message)"
   ]
  },
  {
   "cell_type": "code",
   "execution_count": 5,
   "id": "1cdbf5e8",
   "metadata": {},
   "outputs": [],
   "source": [
    "from langchain_core.output_parsers import StrOutputParser\n",
    "perser=StrOutputParser()"
   ]
  },
  {
   "cell_type": "markdown",
   "id": "274a161a",
   "metadata": {},
   "source": [
    "### using the LCEL we can chain the components\n"
   ]
  },
  {
   "cell_type": "code",
   "execution_count": 6,
   "id": "6b0ac0de",
   "metadata": {},
   "outputs": [
    {
     "data": {
      "text/plain": [
       "'こんにちは (Konnichiwa) \\n'"
      ]
     },
     "execution_count": 6,
     "metadata": {},
     "output_type": "execute_result"
    }
   ],
   "source": [
    "chain=model | perser\n",
    "chain.invoke(message)"
   ]
  },
  {
   "cell_type": "markdown",
   "id": "69b3cc04",
   "metadata": {},
   "source": [
    "### chatPromptTemplets"
   ]
  },
  {
   "cell_type": "code",
   "execution_count": 7,
   "id": "806bcf35",
   "metadata": {},
   "outputs": [
    {
     "data": {
      "text/plain": [
       "\"こんにちは世界 (Konnichiwa sekai) \\n\\n\\nLet me know if you have any other phrases you'd like translated!\\n\""
      ]
     },
     "execution_count": 7,
     "metadata": {},
     "output_type": "execute_result"
    }
   ],
   "source": [
    "from langchain_core.prompts import ChatPromptTemplate,MessagesPlaceholder,SystemMessagePromptTemplate,HumanMessagePromptTemplate\n",
    "generic_templet=\"translate the following English text to {language}: \"\n",
    "\n",
    "prompt=ChatPromptTemplate(\n",
    "    [\n",
    "        (\"system\",generic_templet),\n",
    "        (\"user\",\"{text}\")\n",
    "    ]\n",
    ")\n",
    "chain2=prompt|model|perser\n",
    "chain2.invoke({\"language\":\"japanese\",\"text\":\"hello world\"})"
   ]
  },
  {
   "cell_type": "code",
   "execution_count": null,
   "id": "05d00dd6",
   "metadata": {},
   "outputs": [
    {
     "name": "stdout",
     "output_type": "stream",
     "text": [
      "hellow world\n"
     ]
    }
   ],
   "source": [
    "print(\"hello universe\")"
   ]
  },
  {
   "cell_type": "code",
   "execution_count": null,
   "id": "3b46929b",
   "metadata": {},
   "outputs": [],
   "source": []
  }
 ],
 "metadata": {
  "kernelspec": {
   "display_name": "venv_Gen",
   "language": "python",
   "name": "python3"
  },
  "language_info": {
   "codemirror_mode": {
    "name": "ipython",
    "version": 3
   },
   "file_extension": ".py",
   "mimetype": "text/x-python",
   "name": "python",
   "nbconvert_exporter": "python",
   "pygments_lexer": "ipython3",
   "version": "3.12.0"
  }
 },
 "nbformat": 4,
 "nbformat_minor": 5
}
