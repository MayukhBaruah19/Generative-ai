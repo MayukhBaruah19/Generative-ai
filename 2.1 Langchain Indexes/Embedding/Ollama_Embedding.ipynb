{
 "cells": [
  {
   "cell_type": "markdown",
   "id": "defb88ef",
   "metadata": {},
   "source": [
    "# Ollama\n",
    "Ollama supports  embedding models,making it possible to build retreval argumented generation (RAG),\n",
    "application that combines text prompts with document or other data.\n"
   ]
  },
  {
   "cell_type": "code",
   "execution_count": 1,
   "id": "c1497cd7",
   "metadata": {},
   "outputs": [
    {
     "name": "stderr",
     "output_type": "stream",
     "text": [
      "C:\\Users\\acer\\AppData\\Local\\Temp\\ipykernel_252\\3538388441.py:2: LangChainDeprecationWarning: The class `OllamaEmbeddings` was deprecated in LangChain 0.3.1 and will be removed in 1.0.0. An updated version of the class exists in the :class:`~langchain-ollama package and should be used instead. To use it run `pip install -U :class:`~langchain-ollama` and import as `from :class:`~langchain_ollama import OllamaEmbeddings``.\n",
      "  embeddings=OllamaEmbeddings(model='llama3.2:1b')\n"
     ]
    },
    {
     "data": {
      "text/plain": [
       "OllamaEmbeddings(base_url='http://localhost:11434', model='llama3.2:1b', embed_instruction='passage: ', query_instruction='query: ', mirostat=None, mirostat_eta=None, mirostat_tau=None, num_ctx=None, num_gpu=None, num_thread=None, repeat_last_n=None, repeat_penalty=None, temperature=None, stop=None, tfs_z=None, top_k=None, top_p=None, show_progress=False, headers=None, model_kwargs=None)"
      ]
     },
     "execution_count": 1,
     "metadata": {},
     "output_type": "execute_result"
    }
   ],
   "source": [
    "from langchain_community.embeddings import OllamaEmbeddings\n",
    "embeddings=OllamaEmbeddings(model='llama3.2:1b')\n",
    "embeddings"
   ]
  },
  {
   "cell_type": "code",
   "execution_count": 2,
   "id": "42e8e1f8",
   "metadata": {},
   "outputs": [],
   "source": [
    "r1=embeddings.embed_documents([\n",
    "    'Ollama is an open-source platform that simplifies running and managing '\n",
    "    'large language models (LLMs) locally on your computer.'\n",
    "])"
   ]
  },
  {
   "cell_type": "code",
   "execution_count": 5,
   "id": "6526859f",
   "metadata": {},
   "outputs": [
    {
     "data": {
      "text/plain": [
       "2048"
      ]
     },
     "execution_count": 5,
     "metadata": {},
     "output_type": "execute_result"
    }
   ],
   "source": [
    "len(r1[0])"
   ]
  }
 ],
 "metadata": {
  "kernelspec": {
   "display_name": "venv_Gen",
   "language": "python",
   "name": "python3"
  },
  "language_info": {
   "codemirror_mode": {
    "name": "ipython",
    "version": 3
   },
   "file_extension": ".py",
   "mimetype": "text/x-python",
   "name": "python",
   "nbconvert_exporter": "python",
   "pygments_lexer": "ipython3",
   "version": "3.12.0"
  }
 },
 "nbformat": 4,
 "nbformat_minor": 5
}
