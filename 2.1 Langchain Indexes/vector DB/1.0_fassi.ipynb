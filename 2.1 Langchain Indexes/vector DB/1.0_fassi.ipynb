{
 "cells": [
  {
   "cell_type": "markdown",
   "id": "576038f7",
   "metadata": {},
   "source": [
    "#### Faiss\n",
    "Facebook AI Similarity Search (Faiss) is a library for efficient similarity search and clustering of dense vectors. It contains algorithms that search in sets of vectors of any size, up to ones that possibly do not fit in RAM. It also contains supporting code for evaluation and parameter tuning."
   ]
  },
  {
   "cell_type": "code",
   "execution_count": 3,
   "id": "02f9349a",
   "metadata": {},
   "outputs": [
    {
     "name": "stderr",
     "output_type": "stream",
     "text": [
      "Created a chunk of size 2375, which is longer than the specified 1000\n"
     ]
    },
    {
     "data": {
      "text/plain": [
       "[Document(metadata={'source': 'C:\\\\Users\\\\acer\\\\Desktop\\\\Gen AI\\\\2.1 Langchain Indexes\\\\sample.txt'}, page_content='Leonardo di ser Piero da Vinci[b] (15 April 1452 – 2 May 1519) was an Italian polymath of the High Renaissance who was active as a painter, draughtsman, engineer, scientist, theorist, sculptor, and architect.[3] While his fame initially rested on his achievements as a painter, he has also become known for his notebooks, in which he made drawings and notes on a variety of subjects, including anatomy, astronomy, botany, cartography, painting, and palaeontology. Leonardo is widely regarded to have been a genius who epitomised the Renaissance humanist ideal,[4] and his collective works comprise a contribution to later generations of artists matched only by that of his younger contemporary Michelangelo.[3][4]'),\n",
       " Document(metadata={'source': 'C:\\\\Users\\\\acer\\\\Desktop\\\\Gen AI\\\\2.1 Langchain Indexes\\\\sample.txt'}, page_content='Born out of wedlock to a successful notary and a lower-class woman in, or near, Vinci, he was educated in Florence by the Italian painter and sculptor Andrea del Verrocchio. He began his career in the city, but then spent much time in the service of Ludovico Sforza in Milan. Later, he worked in Florence and Milan again, as well as briefly in Rome, all while attracting a large following of imitators and students. Upon the invitation of Francis I, he spent his last three years in France, where he died in 1519. Since his death, there has not been a time where his achievements, diverse interests, personal life, and empirical thinking have failed to incite interest and admiration,[3][4] making him a frequent namesake and subject in culture.'),\n",
       " Document(metadata={'source': 'C:\\\\Users\\\\acer\\\\Desktop\\\\Gen AI\\\\2.1 Langchain Indexes\\\\sample.txt'}, page_content=\"Leonardo is identified as one of the greatest painters in the history of Western art and is often credited as the founder of the High Renaissance.[3] Despite having many lost works and fewer than 25 attributed major works – including numerous unfinished works – he created some of the most influential paintings in the Western canon.[3] The Mona Lisa is his best known work and is the world's most famous individual painting. The Last Supper is the most reproduced religious painting of all time and his Vitruvian Man drawing is also regarded as a cultural icon. In 2017, Salvator Mundi, attributed in whole or part to Leonardo,[5] was sold at auction for US$450.3 million, setting a new record for the most expensive painting ever sold at public auction.\"),\n",
       " Document(metadata={'source': 'C:\\\\Users\\\\acer\\\\Desktop\\\\Gen AI\\\\2.1 Langchain Indexes\\\\sample.txt'}, page_content='Revered for his technological ingenuity, he conceptualised flying machines, a type of armoured fighting vehicle, concentrated solar power, a ratio machine that could be used in an adding machine,[6][7] and the double hull. Relatively few of his designs were constructed or were even feasible during his lifetime, as the modern scientific approaches to metallurgy and engineering were only in their infancy during the Renaissance. Some of his smaller inventions, however, entered the world of manufacturing unheralded, such as an automated bobbin winder and a machine for testing the tensile strength of wire. He made substantial discoveries in anatomy, civil engineering, hydrodynamics, geology, optics, and tribology, but he did not publish his findings and they had little to no direct influence on subsequent science.[8]\\nLeonardo da Vinci, properly named Leonardo di ser Piero da Vinci[b] (\"Leonardo, son of ser Piero from Vinci\"),[9][10][c] was born on 15 April 1452 in, or close to, the Tuscan hill town of Vinci, 20 miles from Florence.[11][12][d] He was born out of wedlock to Piero da Vinci (Ser Piero da Vinci d\\'Antonio di ser Piero di ser Guido; 1426–1504),[16] a Florentine legal notary,[11] and Caterina di Meo Lippi (c.\\u20091434–1494), from the lower class.[17][18][e] It remains uncertain where Leonardo was born; the traditional account, from a local oral tradition recorded by the historian Emanuele Repetti,[21] is that he was born in Anchiano, a country hamlet that would have offered sufficient privacy for the illegitimate birth, though it is still possible he was born in a house in Florence that Ser Piero almost certainly had.[22][a] Leonardo\\'s parents both married separately the year after his birth. Caterina – who later appears in Leonardo\\'s notes as only \"Caterina\" or \"Catelina\" – is usually identified as the Caterina Buti\\n del Vacca, who married the local artisan Antonio di Piero Buti del Vacca, nicknamed L\\'Accattabriga, \\'the quarrelsome one\\'.[17][21] Having been betrothed to her the previous year, Ser Piero married Albiera Amadori and after her death in 1464, went on to have three subsequent marriages.[21][23][f] From all the marriages, Leonardo eventually had 16 half-siblings (of whom 11 survived infancy)[24] who were much younger than he (the last was born when Leonardo was 46 years old)[24] and with whom he had very little contact.[g]'),\n",
       " Document(metadata={'source': 'C:\\\\Users\\\\acer\\\\Desktop\\\\Gen AI\\\\2.1 Langchain Indexes\\\\sample.txt'}, page_content=\"Very little is known about Leonardo's childhood and much is shrouded in myth, partially because of his biography in the frequently apocryphal Lives of the Most Excellent Painters, Sculptors, and Architects (1550) by 16th-century art historian Giorgio Vasari.[27][28] Tax records indicate that by at least 1457 he lived in the household of his paternal grandfather, Antonio da Vinci,[11] but it is possible that he spent the years before then in the care of his mother in Vinci, either Anchiano or Campo Zeppi in the parish of San Pantaleone.[29][30] He is thought to have been close to his uncle, Francesco da Vinci,[3] but his father was probably in Florence most of the time.[11] Ser Piero, who was the descendant of a long line of notaries, established an official residence in Florence by at least 1469 and had a successful career.[11] Despite his family history, Leonardo only received a basic and informal education in (vernacular) writing, reading, and mathematics; possibly because his artistic talents were recognised early, so his family decided to focus their attention there.[11]\")]"
      ]
     },
     "execution_count": 3,
     "metadata": {},
     "output_type": "execute_result"
    }
   ],
   "source": [
    "from langchain_community.document_loaders import TextLoader\n",
    "from langchain_community.vectorstores import FAISS\n",
    "from langchain_community.embeddings import OllamaEmbeddings\n",
    "from langchain_text_splitters import CharacterTextSplitter\n",
    "\n",
    "loader=TextLoader('C:\\\\Users\\\\acer\\\\Desktop\\\\Gen AI\\\\2.1 Langchain Indexes\\\\sample.txt')\n",
    "documents=loader.load()\n",
    "TextSplitter=CharacterTextSplitter(chunk_size=1000,chunk_overlap=50)\n",
    "final_splitted_docs=TextSplitter.split_documents(documents)\n",
    "final_splitted_docs"
   ]
  },
  {
   "cell_type": "markdown",
   "id": "a296e99f",
   "metadata": {},
   "source": [
    "### Create  embedding"
   ]
  },
  {
   "cell_type": "code",
   "execution_count": 5,
   "id": "8c931b01",
   "metadata": {},
   "outputs": [
    {
     "data": {
      "text/plain": [
       "<langchain_community.vectorstores.faiss.FAISS at 0x1fcfb520920>"
      ]
     },
     "execution_count": 5,
     "metadata": {},
     "output_type": "execute_result"
    }
   ],
   "source": [
    "Embedding=OllamaEmbeddings(model=\"llama3.2:1b\")\n",
    "vector_db=FAISS.from_documents(final_splitted_docs,Embedding)\n",
    "vector_db"
   ]
  },
  {
   "cell_type": "code",
   "execution_count": 8,
   "id": "1fd1278f",
   "metadata": {},
   "outputs": [
    {
     "data": {
      "text/plain": [
       "'Born out of wedlock to a successful notary and a lower-class woman in, or near, Vinci, he was educated in Florence by the Italian painter and sculptor Andrea del Verrocchio. He began his career in the city, but then spent much time in the service of Ludovico Sforza in Milan. Later, he worked in Florence and Milan again, as well as briefly in Rome, all while attracting a large following of imitators and students. Upon the invitation of Francis I, he spent his last three years in France, where he died in 1519. Since his death, there has not been a time where his achievements, diverse interests, personal life, and empirical thinking have failed to incite interest and admiration,[3][4] making him a frequent namesake and subject in culture.'"
      ]
     },
     "execution_count": 8,
     "metadata": {},
     "output_type": "execute_result"
    }
   ],
   "source": [
    "#quearry from vector_db\n",
    "query=\"What is Leonardo da Vinci's most famous painting?\"\n",
    "result=vector_db.similarity_search(query)\n",
    "result[0].page_content"
   ]
  },
  {
   "cell_type": "markdown",
   "id": "855bba16",
   "metadata": {},
   "source": [
    "#### As a Retriever\n",
    "We can also convert the vectorstore into a Retriever class. This allows us to easily use it in other LangChain methods, which largely work with retrievers"
   ]
  },
  {
   "cell_type": "code",
   "execution_count": 9,
   "id": "468b7595",
   "metadata": {},
   "outputs": [
    {
     "data": {
      "text/plain": [
       "'Born out of wedlock to a successful notary and a lower-class woman in, or near, Vinci, he was educated in Florence by the Italian painter and sculptor Andrea del Verrocchio. He began his career in the city, but then spent much time in the service of Ludovico Sforza in Milan. Later, he worked in Florence and Milan again, as well as briefly in Rome, all while attracting a large following of imitators and students. Upon the invitation of Francis I, he spent his last three years in France, where he died in 1519. Since his death, there has not been a time where his achievements, diverse interests, personal life, and empirical thinking have failed to incite interest and admiration,[3][4] making him a frequent namesake and subject in culture.'"
      ]
     },
     "execution_count": 9,
     "metadata": {},
     "output_type": "execute_result"
    }
   ],
   "source": [
    "retriver=vector_db.as_retriever()\n",
    "retriver_result=retriver.invoke(query)\n",
    "retriver_result[0].page_content"
   ]
  },
  {
   "cell_type": "markdown",
   "id": "1af0d7e5",
   "metadata": {},
   "source": [
    "#### Similarity Search with score\n",
    "There are some FAISS specific methods. One of them is similarity_search_with_score, which allows you to return not only the documents but also the distance score of the query to them. The returned distance score is L2 distance. Therefore, a lower score is better."
   ]
  },
  {
   "cell_type": "code",
   "execution_count": 10,
   "id": "92d0b2c3",
   "metadata": {},
   "outputs": [
    {
     "data": {
      "text/plain": [
       "[(Document(id='f714dfb7-0fe3-4c77-802d-284b2c7c5730', metadata={'source': 'C:\\\\Users\\\\acer\\\\Desktop\\\\Gen AI\\\\2.1 Langchain Indexes\\\\sample.txt'}, page_content='Born out of wedlock to a successful notary and a lower-class woman in, or near, Vinci, he was educated in Florence by the Italian painter and sculptor Andrea del Verrocchio. He began his career in the city, but then spent much time in the service of Ludovico Sforza in Milan. Later, he worked in Florence and Milan again, as well as briefly in Rome, all while attracting a large following of imitators and students. Upon the invitation of Francis I, he spent his last three years in France, where he died in 1519. Since his death, there has not been a time where his achievements, diverse interests, personal life, and empirical thinking have failed to incite interest and admiration,[3][4] making him a frequent namesake and subject in culture.'),\n",
       "  np.float32(11342.92)),\n",
       " (Document(id='d437c4c6-69fe-498a-9df2-7ce7042a856c', metadata={'source': 'C:\\\\Users\\\\acer\\\\Desktop\\\\Gen AI\\\\2.1 Langchain Indexes\\\\sample.txt'}, page_content='Leonardo di ser Piero da Vinci[b] (15 April 1452 – 2 May 1519) was an Italian polymath of the High Renaissance who was active as a painter, draughtsman, engineer, scientist, theorist, sculptor, and architect.[3] While his fame initially rested on his achievements as a painter, he has also become known for his notebooks, in which he made drawings and notes on a variety of subjects, including anatomy, astronomy, botany, cartography, painting, and palaeontology. Leonardo is widely regarded to have been a genius who epitomised the Renaissance humanist ideal,[4] and his collective works comprise a contribution to later generations of artists matched only by that of his younger contemporary Michelangelo.[3][4]'),\n",
       "  np.float32(12224.316)),\n",
       " (Document(id='88d2ac49-c89c-4027-a976-0ae8bdeb7b77', metadata={'source': 'C:\\\\Users\\\\acer\\\\Desktop\\\\Gen AI\\\\2.1 Langchain Indexes\\\\sample.txt'}, page_content=\"Very little is known about Leonardo's childhood and much is shrouded in myth, partially because of his biography in the frequently apocryphal Lives of the Most Excellent Painters, Sculptors, and Architects (1550) by 16th-century art historian Giorgio Vasari.[27][28] Tax records indicate that by at least 1457 he lived in the household of his paternal grandfather, Antonio da Vinci,[11] but it is possible that he spent the years before then in the care of his mother in Vinci, either Anchiano or Campo Zeppi in the parish of San Pantaleone.[29][30] He is thought to have been close to his uncle, Francesco da Vinci,[3] but his father was probably in Florence most of the time.[11] Ser Piero, who was the descendant of a long line of notaries, established an official residence in Florence by at least 1469 and had a successful career.[11] Despite his family history, Leonardo only received a basic and informal education in (vernacular) writing, reading, and mathematics; possibly because his artistic talents were recognised early, so his family decided to focus their attention there.[11]\"),\n",
       "  np.float32(12831.508)),\n",
       " (Document(id='56ef9d39-0e76-406c-af12-681a9bfc6642', metadata={'source': 'C:\\\\Users\\\\acer\\\\Desktop\\\\Gen AI\\\\2.1 Langchain Indexes\\\\sample.txt'}, page_content=\"Leonardo is identified as one of the greatest painters in the history of Western art and is often credited as the founder of the High Renaissance.[3] Despite having many lost works and fewer than 25 attributed major works – including numerous unfinished works – he created some of the most influential paintings in the Western canon.[3] The Mona Lisa is his best known work and is the world's most famous individual painting. The Last Supper is the most reproduced religious painting of all time and his Vitruvian Man drawing is also regarded as a cultural icon. In 2017, Salvator Mundi, attributed in whole or part to Leonardo,[5] was sold at auction for US$450.3 million, setting a new record for the most expensive painting ever sold at public auction.\"),\n",
       "  np.float32(13131.436))]"
      ]
     },
     "execution_count": 10,
     "metadata": {},
     "output_type": "execute_result"
    }
   ],
   "source": [
    "retriver_result_score=vector_db.similarity_search_with_score(query)\n",
    "retriver_result_score"
   ]
  },
  {
   "cell_type": "code",
   "execution_count": null,
   "id": "b5e23b84",
   "metadata": {},
   "outputs": [],
   "source": [
    "embedding_vector=Embedding.embed_query(query)"
   ]
  },
  {
   "cell_type": "code",
   "execution_count": null,
   "id": "8b336fea",
   "metadata": {},
   "outputs": [],
   "source": [
    "doc_score =vector_db.similarity_search_by_vector(embedding_vector)\n",
    "doc_score"
   ]
  },
  {
   "cell_type": "code",
   "execution_count": 13,
   "id": "faee089d",
   "metadata": {},
   "outputs": [],
   "source": [
    "# saving and loding\n",
    "vector_db.save_local(\"Faiss_vector_db\")"
   ]
  },
  {
   "cell_type": "code",
   "execution_count": 14,
   "id": "4751e019",
   "metadata": {},
   "outputs": [
    {
     "data": {
      "text/plain": [
       "[Document(id='f714dfb7-0fe3-4c77-802d-284b2c7c5730', metadata={'source': 'C:\\\\Users\\\\acer\\\\Desktop\\\\Gen AI\\\\2.1 Langchain Indexes\\\\sample.txt'}, page_content='Born out of wedlock to a successful notary and a lower-class woman in, or near, Vinci, he was educated in Florence by the Italian painter and sculptor Andrea del Verrocchio. He began his career in the city, but then spent much time in the service of Ludovico Sforza in Milan. Later, he worked in Florence and Milan again, as well as briefly in Rome, all while attracting a large following of imitators and students. Upon the invitation of Francis I, he spent his last three years in France, where he died in 1519. Since his death, there has not been a time where his achievements, diverse interests, personal life, and empirical thinking have failed to incite interest and admiration,[3][4] making him a frequent namesake and subject in culture.'),\n",
       " Document(id='d437c4c6-69fe-498a-9df2-7ce7042a856c', metadata={'source': 'C:\\\\Users\\\\acer\\\\Desktop\\\\Gen AI\\\\2.1 Langchain Indexes\\\\sample.txt'}, page_content='Leonardo di ser Piero da Vinci[b] (15 April 1452 – 2 May 1519) was an Italian polymath of the High Renaissance who was active as a painter, draughtsman, engineer, scientist, theorist, sculptor, and architect.[3] While his fame initially rested on his achievements as a painter, he has also become known for his notebooks, in which he made drawings and notes on a variety of subjects, including anatomy, astronomy, botany, cartography, painting, and palaeontology. Leonardo is widely regarded to have been a genius who epitomised the Renaissance humanist ideal,[4] and his collective works comprise a contribution to later generations of artists matched only by that of his younger contemporary Michelangelo.[3][4]'),\n",
       " Document(id='88d2ac49-c89c-4027-a976-0ae8bdeb7b77', metadata={'source': 'C:\\\\Users\\\\acer\\\\Desktop\\\\Gen AI\\\\2.1 Langchain Indexes\\\\sample.txt'}, page_content=\"Very little is known about Leonardo's childhood and much is shrouded in myth, partially because of his biography in the frequently apocryphal Lives of the Most Excellent Painters, Sculptors, and Architects (1550) by 16th-century art historian Giorgio Vasari.[27][28] Tax records indicate that by at least 1457 he lived in the household of his paternal grandfather, Antonio da Vinci,[11] but it is possible that he spent the years before then in the care of his mother in Vinci, either Anchiano or Campo Zeppi in the parish of San Pantaleone.[29][30] He is thought to have been close to his uncle, Francesco da Vinci,[3] but his father was probably in Florence most of the time.[11] Ser Piero, who was the descendant of a long line of notaries, established an official residence in Florence by at least 1469 and had a successful career.[11] Despite his family history, Leonardo only received a basic and informal education in (vernacular) writing, reading, and mathematics; possibly because his artistic talents were recognised early, so his family decided to focus their attention there.[11]\"),\n",
       " Document(id='56ef9d39-0e76-406c-af12-681a9bfc6642', metadata={'source': 'C:\\\\Users\\\\acer\\\\Desktop\\\\Gen AI\\\\2.1 Langchain Indexes\\\\sample.txt'}, page_content=\"Leonardo is identified as one of the greatest painters in the history of Western art and is often credited as the founder of the High Renaissance.[3] Despite having many lost works and fewer than 25 attributed major works – including numerous unfinished works – he created some of the most influential paintings in the Western canon.[3] The Mona Lisa is his best known work and is the world's most famous individual painting. The Last Supper is the most reproduced religious painting of all time and his Vitruvian Man drawing is also regarded as a cultural icon. In 2017, Salvator Mundi, attributed in whole or part to Leonardo,[5] was sold at auction for US$450.3 million, setting a new record for the most expensive painting ever sold at public auction.\")]"
      ]
     },
     "execution_count": 14,
     "metadata": {},
     "output_type": "execute_result"
    }
   ],
   "source": [
    "load_faiss=FAISS.load_local(\"Faiss_vector_db\",Embedding,allow_dangerous_deserialization=True)\n",
    "load_faiss.similarity_search(query)"
   ]
  },
  {
   "cell_type": "code",
   "execution_count": null,
   "id": "fafe0897",
   "metadata": {},
   "outputs": [],
   "source": []
  },
  {
   "cell_type": "code",
   "execution_count": null,
   "id": "619f83c6",
   "metadata": {},
   "outputs": [],
   "source": []
  },
  {
   "cell_type": "code",
   "execution_count": null,
   "id": "738f6151",
   "metadata": {},
   "outputs": [],
   "source": []
  }
 ],
 "metadata": {
  "kernelspec": {
   "display_name": "venv_Gen",
   "language": "python",
   "name": "python3"
  },
  "language_info": {
   "codemirror_mode": {
    "name": "ipython",
    "version": 3
   },
   "file_extension": ".py",
   "mimetype": "text/x-python",
   "name": "python",
   "nbconvert_exporter": "python",
   "pygments_lexer": "ipython3",
   "version": "3.12.0"
  }
 },
 "nbformat": 4,
 "nbformat_minor": 5
}
