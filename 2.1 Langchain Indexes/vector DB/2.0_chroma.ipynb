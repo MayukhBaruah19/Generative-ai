{
 "cells": [
  {
   "cell_type": "markdown",
   "id": "1aac2239",
   "metadata": {},
   "source": [
    "#### Chroma\n",
    "Chroma is a AI-native open-source vector database focused on developer productivity and happiness. Chroma is licensed under Apache 2.0.\n",
    "\n",
    "https://python.langchain.com/v0.2/docs/integrations/vectorstores/"
   ]
  },
  {
   "cell_type": "code",
   "execution_count": 1,
   "id": "0c8e9110",
   "metadata": {},
   "outputs": [],
   "source": [
    "from langchain_chroma import Chroma\n",
    "from langchain_community.document_loaders import TextLoader\n",
    "from langchain.text_splitter import RecursiveCharacterTextSplitter\n",
    "from langchain_community.embeddings import OllamaEmbeddings"
   ]
  },
  {
   "cell_type": "code",
   "execution_count": 2,
   "id": "1e3f245c",
   "metadata": {},
   "outputs": [
    {
     "data": {
      "text/plain": [
       "[Document(metadata={'source': 'C:\\\\Users\\\\acer\\\\Desktop\\\\Gen AI\\\\2.1 Langchain Indexes\\\\sample.txt'}, page_content='Leonardo di ser Piero da Vinci[b] (15 April 1452 – 2 May 1519) was an Italian polymath of the High Renaissance who was active as a painter, draughtsman, engineer, scientist, theorist, sculptor, and architect.[3] While his fame initially rested on his achievements as a painter, he has also become known for his notebooks, in which he made drawings and notes on a variety of subjects, including anatomy, astronomy, botany, cartography, painting, and palaeontology. Leonardo is widely regarded to have been a genius who epitomised the Renaissance humanist ideal,[4] and his collective works comprise a contribution to later generations of artists matched only by that of his younger contemporary Michelangelo.[3][4]'),\n",
       " Document(metadata={'source': 'C:\\\\Users\\\\acer\\\\Desktop\\\\Gen AI\\\\2.1 Langchain Indexes\\\\sample.txt'}, page_content='Born out of wedlock to a successful notary and a lower-class woman in, or near, Vinci, he was educated in Florence by the Italian painter and sculptor Andrea del Verrocchio. He began his career in the city, but then spent much time in the service of Ludovico Sforza in Milan. Later, he worked in Florence and Milan again, as well as briefly in Rome, all while attracting a large following of imitators and students. Upon the invitation of Francis I, he spent his last three years in France, where he died in 1519. Since his death, there has not been a time where his achievements, diverse interests, personal life, and empirical thinking have failed to incite interest and admiration,[3][4] making him a frequent namesake and subject in culture.'),\n",
       " Document(metadata={'source': 'C:\\\\Users\\\\acer\\\\Desktop\\\\Gen AI\\\\2.1 Langchain Indexes\\\\sample.txt'}, page_content=\"Leonardo is identified as one of the greatest painters in the history of Western art and is often credited as the founder of the High Renaissance.[3] Despite having many lost works and fewer than 25 attributed major works – including numerous unfinished works – he created some of the most influential paintings in the Western canon.[3] The Mona Lisa is his best known work and is the world's most famous individual painting. The Last Supper is the most reproduced religious painting of all time and his Vitruvian Man drawing is also regarded as a cultural icon. In 2017, Salvator Mundi, attributed in whole or part to Leonardo,[5] was sold at auction for US$450.3 million, setting a new record for the most expensive painting ever sold at public auction.\"),\n",
       " Document(metadata={'source': 'C:\\\\Users\\\\acer\\\\Desktop\\\\Gen AI\\\\2.1 Langchain Indexes\\\\sample.txt'}, page_content='Revered for his technological ingenuity, he conceptualised flying machines, a type of armoured fighting vehicle, concentrated solar power, a ratio machine that could be used in an adding machine,[6][7] and the double hull. Relatively few of his designs were constructed or were even feasible during his lifetime, as the modern scientific approaches to metallurgy and engineering were only in their infancy during the Renaissance. Some of his smaller inventions, however, entered the world of manufacturing unheralded, such as an automated bobbin winder and a machine for testing the tensile strength of wire. He made substantial discoveries in anatomy, civil engineering, hydrodynamics, geology, optics, and tribology, but he did not publish his findings and they had little to no direct influence on subsequent science.[8]'),\n",
       " Document(metadata={'source': 'C:\\\\Users\\\\acer\\\\Desktop\\\\Gen AI\\\\2.1 Langchain Indexes\\\\sample.txt'}, page_content='Leonardo da Vinci, properly named Leonardo di ser Piero da Vinci[b] (\"Leonardo, son of ser Piero from Vinci\"),[9][10][c] was born on 15 April 1452 in, or close to, the Tuscan hill town of Vinci, 20 miles from Florence.[11][12][d] He was born out of wedlock to Piero da Vinci (Ser Piero da Vinci d\\'Antonio di ser Piero di ser Guido; 1426–1504),[16] a Florentine legal notary,[11] and Caterina di Meo Lippi (c.\\u20091434–1494), from the lower class.[17][18][e] It remains uncertain where Leonardo was born; the traditional account, from a local oral tradition recorded by the historian Emanuele Repetti,[21] is that he was born in Anchiano, a country hamlet that would have offered sufficient privacy for the illegitimate birth, though it is still possible he was born in a house in Florence that Ser Piero almost certainly had.[22][a] Leonardo\\'s parents both married separately the year after his birth. Caterina – who later appears in Leonardo\\'s notes as only \"Caterina\" or \"Catelina\" – is usually'),\n",
       " Document(metadata={'source': 'C:\\\\Users\\\\acer\\\\Desktop\\\\Gen AI\\\\2.1 Langchain Indexes\\\\sample.txt'}, page_content='as only \"Caterina\" or \"Catelina\" – is usually identified as the Caterina Buti'),\n",
       " Document(metadata={'source': 'C:\\\\Users\\\\acer\\\\Desktop\\\\Gen AI\\\\2.1 Langchain Indexes\\\\sample.txt'}, page_content=\"del Vacca, who married the local artisan Antonio di Piero Buti del Vacca, nicknamed L'Accattabriga, 'the quarrelsome one'.[17][21] Having been betrothed to her the previous year, Ser Piero married Albiera Amadori and after her death in 1464, went on to have three subsequent marriages.[21][23][f] From all the marriages, Leonardo eventually had 16 half-siblings (of whom 11 survived infancy)[24] who were much younger than he (the last was born when Leonardo was 46 years old)[24] and with whom he had very little contact.[g]\"),\n",
       " Document(metadata={'source': 'C:\\\\Users\\\\acer\\\\Desktop\\\\Gen AI\\\\2.1 Langchain Indexes\\\\sample.txt'}, page_content=\"Very little is known about Leonardo's childhood and much is shrouded in myth, partially because of his biography in the frequently apocryphal Lives of the Most Excellent Painters, Sculptors, and Architects (1550) by 16th-century art historian Giorgio Vasari.[27][28] Tax records indicate that by at least 1457 he lived in the household of his paternal grandfather, Antonio da Vinci,[11] but it is possible that he spent the years before then in the care of his mother in Vinci, either Anchiano or Campo Zeppi in the parish of San Pantaleone.[29][30] He is thought to have been close to his uncle, Francesco da Vinci,[3] but his father was probably in Florence most of the time.[11] Ser Piero, who was the descendant of a long line of notaries, established an official residence in Florence by at least 1469 and had a successful career.[11] Despite his family history, Leonardo only received a basic and informal education in (vernacular) writing, reading, and mathematics; possibly because his\"),\n",
       " Document(metadata={'source': 'C:\\\\Users\\\\acer\\\\Desktop\\\\Gen AI\\\\2.1 Langchain Indexes\\\\sample.txt'}, page_content='reading, and mathematics; possibly because his artistic talents were recognised early, so his family decided to focus their attention there.[11]')]"
      ]
     },
     "execution_count": 2,
     "metadata": {},
     "output_type": "execute_result"
    }
   ],
   "source": [
    "loader=TextLoader('C:\\\\Users\\\\acer\\\\Desktop\\\\Gen AI\\\\2.1 Langchain Indexes\\\\sample.txt')\n",
    "data=loader.load()\n",
    "TextSplitter=RecursiveCharacterTextSplitter(chunk_size=1000,chunk_overlap=50)\n",
    "final_splitted_docs=TextSplitter.split_documents(data)\n",
    "final_splitted_docs"
   ]
  },
  {
   "cell_type": "code",
   "execution_count": 3,
   "id": "d2c19a38",
   "metadata": {},
   "outputs": [
    {
     "name": "stderr",
     "output_type": "stream",
     "text": [
      "C:\\Users\\acer\\AppData\\Local\\Temp\\ipykernel_7048\\859788735.py:1: LangChainDeprecationWarning: The class `OllamaEmbeddings` was deprecated in LangChain 0.3.1 and will be removed in 1.0.0. An updated version of the class exists in the :class:`~langchain-ollama package and should be used instead. To use it run `pip install -U :class:`~langchain-ollama` and import as `from :class:`~langchain_ollama import OllamaEmbeddings``.\n",
      "  embedding=OllamaEmbeddings(model=\"llama3.2:1b\")\n"
     ]
    },
    {
     "data": {
      "text/plain": [
       "<langchain_chroma.vectorstores.Chroma at 0x25c06c18590>"
      ]
     },
     "execution_count": 3,
     "metadata": {},
     "output_type": "execute_result"
    }
   ],
   "source": [
    "embedding=OllamaEmbeddings(model=\"llama3.2:1b\")\n",
    "vectorDB=Chroma.from_documents(documents=final_splitted_docs,embedding=embedding)\n",
    "vectorDB"
   ]
  },
  {
   "cell_type": "code",
   "execution_count": 4,
   "id": "c75d56a9",
   "metadata": {},
   "outputs": [
    {
     "data": {
      "text/plain": [
       "'Born out of wedlock to a successful notary and a lower-class woman in, or near, Vinci, he was educated in Florence by the Italian painter and sculptor Andrea del Verrocchio. He began his career in the city, but then spent much time in the service of Ludovico Sforza in Milan. Later, he worked in Florence and Milan again, as well as briefly in Rome, all while attracting a large following of imitators and students. Upon the invitation of Francis I, he spent his last three years in France, where he died in 1519. Since his death, there has not been a time where his achievements, diverse interests, personal life, and empirical thinking have failed to incite interest and admiration,[3][4] making him a frequent namesake and subject in culture.'"
      ]
     },
     "execution_count": 4,
     "metadata": {},
     "output_type": "execute_result"
    }
   ],
   "source": [
    "#quary\n",
    "query=\"What is Leonardo da Vinci's most famous painting?\"\n",
    "result=vectorDB.similarity_search(query)\n",
    "result[0].page_content"
   ]
  },
  {
   "cell_type": "code",
   "execution_count": 5,
   "id": "1b29056e",
   "metadata": {},
   "outputs": [],
   "source": [
    "#save\n",
    "vectorDB=Chroma.from_documents(documents=final_splitted_docs,embedding=embedding,persist_directory=\"./chroma_db\")"
   ]
  },
  {
   "cell_type": "code",
   "execution_count": 6,
   "id": "299b9de9",
   "metadata": {},
   "outputs": [
    {
     "data": {
      "text/plain": [
       "'Born out of wedlock to a successful notary and a lower-class woman in, or near, Vinci, he was educated in Florence by the Italian painter and sculptor Andrea del Verrocchio. He began his career in the city, but then spent much time in the service of Ludovico Sforza in Milan. Later, he worked in Florence and Milan again, as well as briefly in Rome, all while attracting a large following of imitators and students. Upon the invitation of Francis I, he spent his last three years in France, where he died in 1519. Since his death, there has not been a time where his achievements, diverse interests, personal life, and empirical thinking have failed to incite interest and admiration,[3][4] making him a frequent namesake and subject in culture.'"
      ]
     },
     "execution_count": 6,
     "metadata": {},
     "output_type": "execute_result"
    }
   ],
   "source": [
    "db=Chroma(persist_directory=\"./chroma_db\",embedding_function=embedding)\n",
    "doc=db.similarity_search(query)\n",
    "doc[0].page_content"
   ]
  },
  {
   "cell_type": "code",
   "execution_count": null,
   "id": "f022dcfe",
   "metadata": {},
   "outputs": [],
   "source": [
    "## Retrevar\n",
    "retriver=vectorDB.as_retriever()\n",
    "retriver.invoke(query)[0].page_content()"
   ]
  },
  {
   "cell_type": "code",
   "execution_count": null,
   "id": "4330d497",
   "metadata": {},
   "outputs": [],
   "source": []
  },
  {
   "cell_type": "code",
   "execution_count": null,
   "id": "b4c4957d",
   "metadata": {},
   "outputs": [],
   "source": []
  },
  {
   "cell_type": "code",
   "execution_count": null,
   "id": "c165f0b8",
   "metadata": {},
   "outputs": [],
   "source": []
  }
 ],
 "metadata": {
  "kernelspec": {
   "display_name": "venv_Gen",
   "language": "python",
   "name": "python3"
  },
  "language_info": {
   "codemirror_mode": {
    "name": "ipython",
    "version": 3
   },
   "file_extension": ".py",
   "mimetype": "text/x-python",
   "name": "python",
   "nbconvert_exporter": "python",
   "pygments_lexer": "ipython3",
   "version": "3.12.0"
  }
 },
 "nbformat": 4,
 "nbformat_minor": 5
}
