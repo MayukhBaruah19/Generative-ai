{
 "cells": [
  {
   "cell_type": "markdown",
   "id": "8aca21a9",
   "metadata": {},
   "source": [
    "## Load Entire document and store it to the vector DB"
   ]
  },
  {
   "cell_type": "markdown",
   "id": "447b82b9",
   "metadata": {},
   "source": [
    "### Load the file"
   ]
  },
  {
   "cell_type": "code",
   "execution_count": 1,
   "id": "3e40df89",
   "metadata": {},
   "outputs": [
    {
     "data": {
      "text/plain": [
       "[Document(metadata={'source': 'C:\\\\Users\\\\acer\\\\Desktop\\\\Gen AI\\\\2.1 Langchain Indexes\\\\sample.txt'}, page_content='Leonardo di ser Piero da Vinci[b] (15 April 1452 – 2 May 1519) was an Italian polymath of the High Renaissance who was active as a painter, draughtsman, engineer, scientist, theorist, sculptor, and architect.[3] While his fame initially rested on his achievements as a painter, he has also become known for his notebooks, in which he made drawings and notes on a variety of subjects, including anatomy, astronomy, botany, cartography, painting, and palaeontology. Leonardo is widely regarded to have been a genius who epitomised the Renaissance humanist ideal,[4] and his collective works comprise a contribution to later generations of artists matched only by that of his younger contemporary Michelangelo.[3][4]\\n\\nBorn out of wedlock to a successful notary and a lower-class woman in, or near, Vinci, he was educated in Florence by the Italian painter and sculptor Andrea del Verrocchio. He began his career in the city, but then spent much time in the service of Ludovico Sforza in Milan. Later, he worked in Florence and Milan again, as well as briefly in Rome, all while attracting a large following of imitators and students. Upon the invitation of Francis I, he spent his last three years in France, where he died in 1519. Since his death, there has not been a time where his achievements, diverse interests, personal life, and empirical thinking have failed to incite interest and admiration,[3][4] making him a frequent namesake and subject in culture.\\n\\nLeonardo is identified as one of the greatest painters in the history of Western art and is often credited as the founder of the High Renaissance.[3] Despite having many lost works and fewer than 25 attributed major works – including numerous unfinished works – he created some of the most influential paintings in the Western canon.[3] The Mona Lisa is his best known work and is the world\\'s most famous individual painting. The Last Supper is the most reproduced religious painting of all time and his Vitruvian Man drawing is also regarded as a cultural icon. In 2017, Salvator Mundi, attributed in whole or part to Leonardo,[5] was sold at auction for US$450.3 million, setting a new record for the most expensive painting ever sold at public auction.\\n\\nRevered for his technological ingenuity, he conceptualised flying machines, a type of armoured fighting vehicle, concentrated solar power, a ratio machine that could be used in an adding machine,[6][7] and the double hull. Relatively few of his designs were constructed or were even feasible during his lifetime, as the modern scientific approaches to metallurgy and engineering were only in their infancy during the Renaissance. Some of his smaller inventions, however, entered the world of manufacturing unheralded, such as an automated bobbin winder and a machine for testing the tensile strength of wire. He made substantial discoveries in anatomy, civil engineering, hydrodynamics, geology, optics, and tribology, but he did not publish his findings and they had little to no direct influence on subsequent science.[8]\\nLeonardo da Vinci, properly named Leonardo di ser Piero da Vinci[b] (\"Leonardo, son of ser Piero from Vinci\"),[9][10][c] was born on 15 April 1452 in, or close to, the Tuscan hill town of Vinci, 20 miles from Florence.[11][12][d] He was born out of wedlock to Piero da Vinci (Ser Piero da Vinci d\\'Antonio di ser Piero di ser Guido; 1426–1504),[16] a Florentine legal notary,[11] and Caterina di Meo Lippi (c.\\u20091434–1494), from the lower class.[17][18][e] It remains uncertain where Leonardo was born; the traditional account, from a local oral tradition recorded by the historian Emanuele Repetti,[21] is that he was born in Anchiano, a country hamlet that would have offered sufficient privacy for the illegitimate birth, though it is still possible he was born in a house in Florence that Ser Piero almost certainly had.[22][a] Leonardo\\'s parents both married separately the year after his birth. Caterina – who later appears in Leonardo\\'s notes as only \"Caterina\" or \"Catelina\" – is usually identified as the Caterina Buti\\n del Vacca, who married the local artisan Antonio di Piero Buti del Vacca, nicknamed L\\'Accattabriga, \\'the quarrelsome one\\'.[17][21] Having been betrothed to her the previous year, Ser Piero married Albiera Amadori and after her death in 1464, went on to have three subsequent marriages.[21][23][f] From all the marriages, Leonardo eventually had 16 half-siblings (of whom 11 survived infancy)[24] who were much younger than he (the last was born when Leonardo was 46 years old)[24] and with whom he had very little contact.[g]\\n\\nVery little is known about Leonardo\\'s childhood and much is shrouded in myth, partially because of his biography in the frequently apocryphal Lives of the Most Excellent Painters, Sculptors, and Architects (1550) by 16th-century art historian Giorgio Vasari.[27][28] Tax records indicate that by at least 1457 he lived in the household of his paternal grandfather, Antonio da Vinci,[11] but it is possible that he spent the years before then in the care of his mother in Vinci, either Anchiano or Campo Zeppi in the parish of San Pantaleone.[29][30] He is thought to have been close to his uncle, Francesco da Vinci,[3] but his father was probably in Florence most of the time.[11] Ser Piero, who was the descendant of a long line of notaries, established an official residence in Florence by at least 1469 and had a successful career.[11] Despite his family history, Leonardo only received a basic and informal education in (vernacular) writing, reading, and mathematics; possibly because his artistic talents were recognised early, so his family decided to focus their attention there.[11]')]"
      ]
     },
     "execution_count": 1,
     "metadata": {},
     "output_type": "execute_result"
    }
   ],
   "source": [
    "from langchain_community.document_loaders import TextLoader\n",
    "\n",
    "loader=TextLoader('C:\\\\Users\\\\acer\\\\Desktop\\\\Gen AI\\\\2.1 Langchain Indexes\\\\sample.txt')\n",
    "docs=loader.load()\n",
    "docs"
   ]
  },
  {
   "cell_type": "markdown",
   "id": "ad133e35",
   "metadata": {},
   "source": [
    "### split the text"
   ]
  },
  {
   "cell_type": "code",
   "execution_count": 3,
   "id": "9b17d8d5",
   "metadata": {},
   "outputs": [
    {
     "data": {
      "text/plain": [
       "[Document(metadata={'source': 'C:\\\\Users\\\\acer\\\\Desktop\\\\Gen AI\\\\2.1 Langchain Indexes\\\\sample.txt'}, page_content='Leonardo di ser Piero da Vinci[b] (15 April 1452 – 2 May 1519) was an Italian polymath of the High Renaissance who was active as a painter, draughtsman, engineer, scientist, theorist, sculptor, and'),\n",
       " Document(metadata={'source': 'C:\\\\Users\\\\acer\\\\Desktop\\\\Gen AI\\\\2.1 Langchain Indexes\\\\sample.txt'}, page_content='engineer, scientist, theorist, sculptor, and architect.[3] While his fame initially rested on his achievements as a painter, he has also become known for his notebooks, in which he made drawings and'),\n",
       " Document(metadata={'source': 'C:\\\\Users\\\\acer\\\\Desktop\\\\Gen AI\\\\2.1 Langchain Indexes\\\\sample.txt'}, page_content='for his notebooks, in which he made drawings and notes on a variety of subjects, including anatomy, astronomy, botany, cartography, painting, and palaeontology. Leonardo is widely regarded to have'),\n",
       " Document(metadata={'source': 'C:\\\\Users\\\\acer\\\\Desktop\\\\Gen AI\\\\2.1 Langchain Indexes\\\\sample.txt'}, page_content='Leonardo is widely regarded to have been a genius who epitomised the Renaissance humanist ideal,[4] and his collective works comprise a contribution to later generations of artists matched only by'),\n",
       " Document(metadata={'source': 'C:\\\\Users\\\\acer\\\\Desktop\\\\Gen AI\\\\2.1 Langchain Indexes\\\\sample.txt'}, page_content='to later generations of artists matched only by that of his younger contemporary Michelangelo.[3][4]'),\n",
       " Document(metadata={'source': 'C:\\\\Users\\\\acer\\\\Desktop\\\\Gen AI\\\\2.1 Langchain Indexes\\\\sample.txt'}, page_content='Born out of wedlock to a successful notary and a lower-class woman in, or near, Vinci, he was educated in Florence by the Italian painter and sculptor Andrea del Verrocchio. He began his career in'),\n",
       " Document(metadata={'source': 'C:\\\\Users\\\\acer\\\\Desktop\\\\Gen AI\\\\2.1 Langchain Indexes\\\\sample.txt'}, page_content='Andrea del Verrocchio. He began his career in the city, but then spent much time in the service of Ludovico Sforza in Milan. Later, he worked in Florence and Milan again, as well as briefly in Rome,'),\n",
       " Document(metadata={'source': 'C:\\\\Users\\\\acer\\\\Desktop\\\\Gen AI\\\\2.1 Langchain Indexes\\\\sample.txt'}, page_content='and Milan again, as well as briefly in Rome, all while attracting a large following of imitators and students. Upon the invitation of Francis I, he spent his last three years in France, where he died'),\n",
       " Document(metadata={'source': 'C:\\\\Users\\\\acer\\\\Desktop\\\\Gen AI\\\\2.1 Langchain Indexes\\\\sample.txt'}, page_content='his last three years in France, where he died in 1519. Since his death, there has not been a time where his achievements, diverse interests, personal life, and empirical thinking have failed to'),\n",
       " Document(metadata={'source': 'C:\\\\Users\\\\acer\\\\Desktop\\\\Gen AI\\\\2.1 Langchain Indexes\\\\sample.txt'}, page_content='life, and empirical thinking have failed to incite interest and admiration,[3][4] making him a frequent namesake and subject in culture.'),\n",
       " Document(metadata={'source': 'C:\\\\Users\\\\acer\\\\Desktop\\\\Gen AI\\\\2.1 Langchain Indexes\\\\sample.txt'}, page_content='Leonardo is identified as one of the greatest painters in the history of Western art and is often credited as the founder of the High Renaissance.[3] Despite having many lost works and fewer than 25'),\n",
       " Document(metadata={'source': 'C:\\\\Users\\\\acer\\\\Desktop\\\\Gen AI\\\\2.1 Langchain Indexes\\\\sample.txt'}, page_content='Despite having many lost works and fewer than 25 attributed major works – including numerous unfinished works – he created some of the most influential paintings in the Western canon.[3] The Mona'),\n",
       " Document(metadata={'source': 'C:\\\\Users\\\\acer\\\\Desktop\\\\Gen AI\\\\2.1 Langchain Indexes\\\\sample.txt'}, page_content=\"paintings in the Western canon.[3] The Mona Lisa is his best known work and is the world's most famous individual painting. The Last Supper is the most reproduced religious painting of all time and\"),\n",
       " Document(metadata={'source': 'C:\\\\Users\\\\acer\\\\Desktop\\\\Gen AI\\\\2.1 Langchain Indexes\\\\sample.txt'}, page_content='reproduced religious painting of all time and his Vitruvian Man drawing is also regarded as a cultural icon. In 2017, Salvator Mundi, attributed in whole or part to Leonardo,[5] was sold at auction'),\n",
       " Document(metadata={'source': 'C:\\\\Users\\\\acer\\\\Desktop\\\\Gen AI\\\\2.1 Langchain Indexes\\\\sample.txt'}, page_content='whole or part to Leonardo,[5] was sold at auction for US$450.3 million, setting a new record for the most expensive painting ever sold at public auction.'),\n",
       " Document(metadata={'source': 'C:\\\\Users\\\\acer\\\\Desktop\\\\Gen AI\\\\2.1 Langchain Indexes\\\\sample.txt'}, page_content='Revered for his technological ingenuity, he conceptualised flying machines, a type of armoured fighting vehicle, concentrated solar power, a ratio machine that could be used in an adding'),\n",
       " Document(metadata={'source': 'C:\\\\Users\\\\acer\\\\Desktop\\\\Gen AI\\\\2.1 Langchain Indexes\\\\sample.txt'}, page_content='a ratio machine that could be used in an adding machine,[6][7] and the double hull. Relatively few of his designs were constructed or were even feasible during his lifetime, as the modern scientific'),\n",
       " Document(metadata={'source': 'C:\\\\Users\\\\acer\\\\Desktop\\\\Gen AI\\\\2.1 Langchain Indexes\\\\sample.txt'}, page_content='during his lifetime, as the modern scientific approaches to metallurgy and engineering were only in their infancy during the Renaissance. Some of his smaller inventions, however, entered the world of'),\n",
       " Document(metadata={'source': 'C:\\\\Users\\\\acer\\\\Desktop\\\\Gen AI\\\\2.1 Langchain Indexes\\\\sample.txt'}, page_content='smaller inventions, however, entered the world of manufacturing unheralded, such as an automated bobbin winder and a machine for testing the tensile strength of wire. He made substantial discoveries'),\n",
       " Document(metadata={'source': 'C:\\\\Users\\\\acer\\\\Desktop\\\\Gen AI\\\\2.1 Langchain Indexes\\\\sample.txt'}, page_content='strength of wire. He made substantial discoveries in anatomy, civil engineering, hydrodynamics, geology, optics, and tribology, but he did not publish his findings and they had little to no direct'),\n",
       " Document(metadata={'source': 'C:\\\\Users\\\\acer\\\\Desktop\\\\Gen AI\\\\2.1 Langchain Indexes\\\\sample.txt'}, page_content='his findings and they had little to no direct influence on subsequent science.[8]'),\n",
       " Document(metadata={'source': 'C:\\\\Users\\\\acer\\\\Desktop\\\\Gen AI\\\\2.1 Langchain Indexes\\\\sample.txt'}, page_content='Leonardo da Vinci, properly named Leonardo di ser Piero da Vinci[b] (\"Leonardo, son of ser Piero from Vinci\"),[9][10][c] was born on 15 April 1452 in, or close to, the Tuscan hill town of Vinci, 20'),\n",
       " Document(metadata={'source': 'C:\\\\Users\\\\acer\\\\Desktop\\\\Gen AI\\\\2.1 Langchain Indexes\\\\sample.txt'}, page_content=\"or close to, the Tuscan hill town of Vinci, 20 miles from Florence.[11][12][d] He was born out of wedlock to Piero da Vinci (Ser Piero da Vinci d'Antonio di ser Piero di ser Guido; 1426–1504),[16] a\"),\n",
       " Document(metadata={'source': 'C:\\\\Users\\\\acer\\\\Desktop\\\\Gen AI\\\\2.1 Langchain Indexes\\\\sample.txt'}, page_content='di ser Piero di ser Guido; 1426–1504),[16] a Florentine legal notary,[11] and Caterina di Meo Lippi (c.\\u20091434–1494), from the lower class.[17][18][e] It remains uncertain where Leonardo was born; the'),\n",
       " Document(metadata={'source': 'C:\\\\Users\\\\acer\\\\Desktop\\\\Gen AI\\\\2.1 Langchain Indexes\\\\sample.txt'}, page_content='It remains uncertain where Leonardo was born; the traditional account, from a local oral tradition recorded by the historian Emanuele Repetti,[21] is that he was born in Anchiano, a country hamlet'),\n",
       " Document(metadata={'source': 'C:\\\\Users\\\\acer\\\\Desktop\\\\Gen AI\\\\2.1 Langchain Indexes\\\\sample.txt'}, page_content='is that he was born in Anchiano, a country hamlet that would have offered sufficient privacy for the illegitimate birth, though it is still possible he was born in a house in Florence that Ser Piero'),\n",
       " Document(metadata={'source': 'C:\\\\Users\\\\acer\\\\Desktop\\\\Gen AI\\\\2.1 Langchain Indexes\\\\sample.txt'}, page_content=\"he was born in a house in Florence that Ser Piero almost certainly had.[22][a] Leonardo's parents both married separately the year after his birth. Caterina – who later appears in Leonardo's notes as\"),\n",
       " Document(metadata={'source': 'C:\\\\Users\\\\acer\\\\Desktop\\\\Gen AI\\\\2.1 Langchain Indexes\\\\sample.txt'}, page_content='– who later appears in Leonardo\\'s notes as only \"Caterina\" or \"Catelina\" – is usually identified as the Caterina Buti'),\n",
       " Document(metadata={'source': 'C:\\\\Users\\\\acer\\\\Desktop\\\\Gen AI\\\\2.1 Langchain Indexes\\\\sample.txt'}, page_content=\"del Vacca, who married the local artisan Antonio di Piero Buti del Vacca, nicknamed L'Accattabriga, 'the quarrelsome one'.[17][21] Having been betrothed to her the previous year, Ser Piero married\"),\n",
       " Document(metadata={'source': 'C:\\\\Users\\\\acer\\\\Desktop\\\\Gen AI\\\\2.1 Langchain Indexes\\\\sample.txt'}, page_content='to her the previous year, Ser Piero married Albiera Amadori and after her death in 1464, went on to have three subsequent marriages.[21][23][f] From all the marriages, Leonardo eventually had 16'),\n",
       " Document(metadata={'source': 'C:\\\\Users\\\\acer\\\\Desktop\\\\Gen AI\\\\2.1 Langchain Indexes\\\\sample.txt'}, page_content='all the marriages, Leonardo eventually had 16 half-siblings (of whom 11 survived infancy)[24] who were much younger than he (the last was born when Leonardo was 46 years old)[24] and with whom he had'),\n",
       " Document(metadata={'source': 'C:\\\\Users\\\\acer\\\\Desktop\\\\Gen AI\\\\2.1 Langchain Indexes\\\\sample.txt'}, page_content='was 46 years old)[24] and with whom he had very little contact.[g]'),\n",
       " Document(metadata={'source': 'C:\\\\Users\\\\acer\\\\Desktop\\\\Gen AI\\\\2.1 Langchain Indexes\\\\sample.txt'}, page_content=\"Very little is known about Leonardo's childhood and much is shrouded in myth, partially because of his biography in the frequently apocryphal Lives of the Most Excellent Painters, Sculptors, and\"),\n",
       " Document(metadata={'source': 'C:\\\\Users\\\\acer\\\\Desktop\\\\Gen AI\\\\2.1 Langchain Indexes\\\\sample.txt'}, page_content='of the Most Excellent Painters, Sculptors, and Architects (1550) by 16th-century art historian Giorgio Vasari.[27][28] Tax records indicate that by at least 1457 he lived in the household of his'),\n",
       " Document(metadata={'source': 'C:\\\\Users\\\\acer\\\\Desktop\\\\Gen AI\\\\2.1 Langchain Indexes\\\\sample.txt'}, page_content='by at least 1457 he lived in the household of his paternal grandfather, Antonio da Vinci,[11] but it is possible that he spent the years before then in the care of his mother in Vinci, either'),\n",
       " Document(metadata={'source': 'C:\\\\Users\\\\acer\\\\Desktop\\\\Gen AI\\\\2.1 Langchain Indexes\\\\sample.txt'}, page_content='then in the care of his mother in Vinci, either Anchiano or Campo Zeppi in the parish of San Pantaleone.[29][30] He is thought to have been close to his uncle, Francesco da Vinci,[3] but his father'),\n",
       " Document(metadata={'source': 'C:\\\\Users\\\\acer\\\\Desktop\\\\Gen AI\\\\2.1 Langchain Indexes\\\\sample.txt'}, page_content='his uncle, Francesco da Vinci,[3] but his father was probably in Florence most of the time.[11] Ser Piero, who was the descendant of a long line of notaries, established an official residence in'),\n",
       " Document(metadata={'source': 'C:\\\\Users\\\\acer\\\\Desktop\\\\Gen AI\\\\2.1 Langchain Indexes\\\\sample.txt'}, page_content='of notaries, established an official residence in Florence by at least 1469 and had a successful career.[11] Despite his family history, Leonardo only received a basic and informal education in'),\n",
       " Document(metadata={'source': 'C:\\\\Users\\\\acer\\\\Desktop\\\\Gen AI\\\\2.1 Langchain Indexes\\\\sample.txt'}, page_content='only received a basic and informal education in (vernacular) writing, reading, and mathematics; possibly because his artistic talents were recognised early, so his family decided to focus their'),\n",
       " Document(metadata={'source': 'C:\\\\Users\\\\acer\\\\Desktop\\\\Gen AI\\\\2.1 Langchain Indexes\\\\sample.txt'}, page_content='early, so his family decided to focus their attention there.[11]')]"
      ]
     },
     "execution_count": 3,
     "metadata": {},
     "output_type": "execute_result"
    }
   ],
   "source": [
    "from langchain_text_splitters import RecursiveCharacterTextSplitter\n",
    "text_splitter = RecursiveCharacterTextSplitter(chunk_size=200, chunk_overlap=50)\n",
    "final_doc = text_splitter.split_documents(docs)\n",
    "final_doc  "
   ]
  },
  {
   "cell_type": "markdown",
   "id": "284923ec",
   "metadata": {},
   "source": [
    "### Converting texts into vector embedding and store it into vector stor DB"
   ]
  },
  {
   "cell_type": "code",
   "execution_count": 15,
   "id": "d845d343",
   "metadata": {},
   "outputs": [
    {
     "data": {
      "text/plain": [
       "OllamaEmbeddings(base_url='http://localhost:11434', model='llama3.2:1b', embed_instruction='passage: ', query_instruction='query: ', mirostat=None, mirostat_eta=None, mirostat_tau=None, num_ctx=None, num_gpu=None, num_thread=None, repeat_last_n=None, repeat_penalty=None, temperature=None, stop=None, tfs_z=None, top_k=None, top_p=None, show_progress=False, headers=None, model_kwargs=None)"
      ]
     },
     "execution_count": 15,
     "metadata": {},
     "output_type": "execute_result"
    }
   ],
   "source": [
    "from langchain_community.embeddings import OllamaEmbeddings\n",
    "embedding=OllamaEmbeddings(model='llama3.2:1b')\n",
    "embedding"
   ]
  },
  {
   "cell_type": "code",
   "execution_count": 16,
   "id": "8f062b19",
   "metadata": {},
   "outputs": [
    {
     "data": {
      "text/plain": [
       "<langchain_community.vectorstores.chroma.Chroma at 0x1b4a63dfe90>"
      ]
     },
     "execution_count": 16,
     "metadata": {},
     "output_type": "execute_result"
    }
   ],
   "source": [
    "from langchain_community.vectorstores import Chroma\n",
    "# Vector_DB=Chroma.from_documents(final_doc,embed_data)\n",
    "Vector_DB = Chroma.from_documents(final_doc, embedding=embedding, persist_directory=\"chroma_db\")\n",
    "Vector_DB"
   ]
  },
  {
   "cell_type": "code",
   "execution_count": 18,
   "id": "07c8c26f",
   "metadata": {},
   "outputs": [
    {
     "name": "stdout",
     "output_type": "stream",
     "text": [
      "[Document(metadata={'source': 'C:\\\\Users\\\\acer\\\\Desktop\\\\Gen AI\\\\2.1 Langchain Indexes\\\\sample.txt'}, page_content='smaller inventions, however, entered the world of manufacturing unheralded, such as an automated bobbin winder and a machine for testing the tensile strength of wire. He made substantial discoveries'), Document(metadata={'source': 'C:\\\\Users\\\\acer\\\\Desktop\\\\Gen AI\\\\2.1 Langchain Indexes\\\\sample.txt'}, page_content='for his notebooks, in which he made drawings and notes on a variety of subjects, including anatomy, astronomy, botany, cartography, painting, and palaeontology. Leonardo is widely regarded to have'), Document(metadata={'source': 'C:\\\\Users\\\\acer\\\\Desktop\\\\Gen AI\\\\2.1 Langchain Indexes\\\\sample.txt'}, page_content='It remains uncertain where Leonardo was born; the traditional account, from a local oral tradition recorded by the historian Emanuele Repetti,[21] is that he was born in Anchiano, a country hamlet'), Document(metadata={'source': 'C:\\\\Users\\\\acer\\\\Desktop\\\\Gen AI\\\\2.1 Langchain Indexes\\\\sample.txt'}, page_content='and Milan again, as well as briefly in Rome, all while attracting a large following of imitators and students. Upon the invitation of Francis I, he spent his last three years in France, where he died')]\n"
     ]
    }
   ],
   "source": [
    "query=\"Revered for his technological ingenuity, he conceptualised flying machines\"\n",
    "retrieved_results=Vector_DB.similarity_search(query)\n",
    "print(retrieved_results)"
   ]
  }
 ],
 "metadata": {
  "kernelspec": {
   "display_name": "venv_Gen",
   "language": "python",
   "name": "python3"
  },
  "language_info": {
   "codemirror_mode": {
    "name": "ipython",
    "version": 3
   },
   "file_extension": ".py",
   "mimetype": "text/x-python",
   "name": "python",
   "nbconvert_exporter": "python",
   "pygments_lexer": "ipython3",
   "version": "3.12.0"
  }
 },
 "nbformat": 4,
 "nbformat_minor": 5
}
