{
 "cells": [
  {
   "cell_type": "markdown",
   "id": "7ed9a425",
   "metadata": {},
   "source": [
    "#### Getting started With Langchain And Open AI\n",
    "\n",
    "In this quickstart we'll see how to:\n",
    "\n",
    "- Get setup with LangChain, LangSmith and LangServe\n",
    "- Use the most basic and common components of LangChain: prompt templates, models, and output parsers.\n",
    "- Build a simple application with LangChain\n",
    "- Trace your application with LangSmith\n",
    "- Serve your application with LangServe"
   ]
  },
  {
   "cell_type": "code",
   "execution_count": 1,
   "id": "5e69ac6b",
   "metadata": {},
   "outputs": [
    {
     "data": {
      "text/plain": [
       "True"
      ]
     },
     "execution_count": 1,
     "metadata": {},
     "output_type": "execute_result"
    }
   ],
   "source": [
    "import os \n",
    "from dotenv import load_dotenv\n",
    "load_dotenv()\n"
   ]
  },
  {
   "cell_type": "code",
   "execution_count": null,
   "id": "c4104347",
   "metadata": {},
   "outputs": [],
   "source": [
    "os.environ['OPENAI_API_KEY']=os.getenv('OPENAI_API_KEY')\n",
    "\n",
    "#used for Langsmith tracking\n",
    "os.environ['LANGCHAIN_API_KEY']=os.getenv('LANGCHAIN_API_KEY')\n",
    "os.environ['LANGCHAIN_TRACING_V2']='true'\n",
    "os.environ['LANGCHAIN_PROJECT']=os.getenv('LANGCHAIN_PROJECT')"
   ]
  },
  {
   "cell_type": "code",
   "execution_count": 4,
   "id": "61e607b9",
   "metadata": {},
   "outputs": [
    {
     "name": "stdout",
     "output_type": "stream",
     "text": [
      "client=<openai.resources.chat.completions.completions.Completions object at 0x000002BABDBC5850> async_client=<openai.resources.chat.completions.completions.AsyncCompletions object at 0x000002BABD713A40> root_client=<openai.OpenAI object at 0x000002BABD829190> root_async_client=<openai.AsyncOpenAI object at 0x000002BABD8FAF30> model_name='gpt-4o' model_kwargs={} openai_api_key=SecretStr('**********')\n"
     ]
    }
   ],
   "source": [
    "from langchain_openai import ChatOpenAI\n",
    "llm=ChatOpenAI(model='gpt-4o')\n",
    "print(llm)"
   ]
  },
  {
   "cell_type": "code",
   "execution_count": null,
   "metadata": {},
   "outputs": [],
   "source": [
    "#it will give the answer of the question\n",
    "result=llm.invoke(\"What is Generative AI?\")\n",
    "print(result.content)\n",
    "#OUTPUT:\n",
    "#content='Generative AI refers to a subset of artificial intelligence that focuses on creating new content, such as text, images, audio, or even code, that resembles human-generated data. Unlike traditional AI systems that perform tasks based on predefined rules or patterns, generative AI models learn from vast amounts of data to generate new and original outputs.\\n\\nSome of the key techniques and models used in generative AI include:\\n\\n1. **Generative Adversarial Networks (GANs)**: These consist of two neural networks, a generator and a discriminator, that are trained together. The generator creates new data samples, while the discriminator evaluates them against real data. The goal is for the generator to produce data that the discriminator cannot distinguish from real data.\\n\\n2. **Variational Autoencoders (VAEs)**: These models encode input data into a compressed latent space and then decode it back to the original data space. By sampling from this latent space, new data samples can be generated.\\n\\n3. **Transformer Models**: Models like GPT (Generative Pre-trained Transformer) use transformer architecture to generate human-like text. They are trained on large datasets and can generate coherent and contextually relevant text based on a given prompt.\\n\\nGenerative AI has a wide range of applications, including:\\n\\n- **Text generation**: Creating articles, stories, and even code.\\n- **Image synthesis**: Generating realistic images, art, and designs.\\n- **Audio generation**: Producing music, voice, and sound effects.\\n- **Data augmentation**: Creating synthetic data to improve machine learning models.\\n\\nThe technology has enormous potential but also raises ethical and societal concerns, such as the creation of deepfakes, intellectual property issues, and the potential for misuse in generating misleading information.' response_metadata={'token_usage': {'completion_tokens': 351, 'prompt_tokens': 13, 'total_tokens': 364}, 'model_name': 'gpt-4o', 'system_fingerprint': 'fp_f4e629d0a5', 'finish_reason': 'stop', 'logprobs': None} id='run-797b6d80-6f17-4c55-90cd-26ee1824301c-0' usage_metadata={'input_tokens': 13, 'output_tokens': 351, 'total_tokens': 364}"
   ]
  },
  {
   "cell_type": "markdown",
   "id": "57e39817",
   "metadata": {},
   "source": [
    "### Prompt templets\n",
    "- how you want your LLM model to behave,what kind of responce/role you want to give to your LLM model,that kind is done with prompt_templets."
   ]
  },
  {
   "cell_type": "code",
   "execution_count": 8,
   "id": "9357b852",
   "metadata": {},
   "outputs": [
    {
     "data": {
      "text/plain": [
       "ChatPromptTemplate(input_variables=['input'], input_types={}, partial_variables={}, messages=[SystemMessagePromptTemplate(prompt=PromptTemplate(input_variables=[], input_types={}, partial_variables={}, template='You are an expert AI Engineer. Provide me answers based on the questions'), additional_kwargs={}), HumanMessagePromptTemplate(prompt=PromptTemplate(input_variables=['input'], input_types={}, partial_variables={}, template='{input}'), additional_kwargs={})])"
      ]
     },
     "execution_count": 8,
     "metadata": {},
     "output_type": "execute_result"
    }
   ],
   "source": [
    "## Chatprompt Template\n",
    "from langchain_core.prompts import ChatPromptTemplate\n",
    "\n",
    "prompt=ChatPromptTemplate.from_messages(\n",
    "    [\n",
    "        (\"system\",\"You are an expert AI Engineer. Provide me answers based on the questions\"),\n",
    "        (\"user\",\"{input}\")\n",
    "    ]\n",
    "\n",
    ")\n",
    "prompt"
   ]
  },
  {
   "cell_type": "code",
   "execution_count": null,
   "id": "34924da0",
   "metadata": {},
   "outputs": [],
   "source": [
    "chain=prompt|llm\n",
    "response=chain.invoke({'input':'can you tell me about Langsmith?'})\n",
    "print(response.content)"
   ]
  },
  {
   "cell_type": "code",
   "execution_count": null,
   "id": "b4c7ed51",
   "metadata": {},
   "outputs": [],
   "source": [
    "type(response)\n",
    "#OUTPUT:\n",
    "#<class 'langchain_core.messages.ai.AIMessage'>"
   ]
  },
  {
   "cell_type": "code",
   "execution_count": null,
   "id": "1dd76e46",
   "metadata": {},
   "outputs": [],
   "source": [
    "## stroutput Parser\n",
    "from langchain_core.output_parsers import StrOutputParser\n",
    "output_parser=StrOutputParser()\n",
    "chain=prompt|llm|output_parser\n",
    "\n",
    "response=chain.invoke({'input':'can you tell me about Langsmith?'})\n",
    "print(response.content)"
   ]
  },
  {
   "cell_type": "code",
   "execution_count": null,
   "id": "e9019d18",
   "metadata": {},
   "outputs": [],
   "source": []
  }
 ],
 "metadata": {
  "kernelspec": {
   "display_name": "venv_Gen",
   "language": "python",
   "name": "python3"
  },
  "language_info": {
   "codemirror_mode": {
    "name": "ipython",
    "version": 3
   },
   "file_extension": ".py",
   "mimetype": "text/x-python",
   "name": "python",
   "nbconvert_exporter": "python",
   "pygments_lexer": "ipython3",
   "version": "3.12.0"
  }
 },
 "nbformat": 4,
 "nbformat_minor": 5
}
